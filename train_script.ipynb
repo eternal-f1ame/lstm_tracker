{
 "cells": [
  {
   "cell_type": "code",
   "execution_count": 63,
   "metadata": {},
   "outputs": [],
   "source": [
    "import numpy as np\n",
    "from collections import defaultdict"
   ]
  },
  {
   "cell_type": "code",
   "execution_count": 61,
   "metadata": {},
   "outputs": [],
   "source": [
    "import os\n",
    "import numpy as np\n",
    "with open('PATH.txt', 'a', encoding=\"utf-8\") as f:\n",
    "    det = np.zeros((0,14))\n",
    "    for file_ in sorted(os.listdir(\"/home/dark/Documents/GitHub/lstm_tracker/tracker_testing/exp/0000/labels\")):\n",
    "        frame_num = (int(file_.strip(\".txt\")))\n",
    "        \n",
    "        if file_.endswith(\".txt\"):\n",
    "            frame_txt = (open(\"/home/dark/Documents/GitHub/lstm_tracker/tracker_testing/exp/0000/labels/\"+file_,\"r\",encoding=\"utf-8\").read().splitlines())\n",
    "            a = (np.array([a.rstrip().split() for a in frame_txt]).astype(str))\n",
    "            det = np.r_[det,np.c_[frame_num*np.ones(a.shape[0],int),a]]\n",
    "    det = list(det)\n",
    "    det = [\" \".join(list(line))+\"\\n\" for line in det]\n",
    "    f.writelines(det)"
   ]
  },
  {
   "cell_type": "code",
   "execution_count": 2,
   "metadata": {},
   "outputs": [],
   "source": [
    "kitti_classes = {1: 'car',\n",
    "                 2: 'cyclist',\n",
    "                 3: 'misc',\n",
    "                 4: 'pedestrian',\n",
    "                 5: 'person',\n",
    "                 6: 'tram',\n",
    "                 7: 'truck',\n",
    "                 8: 'van',\n",
    "                 -1: 'dontcare'}\n",
    "\n",
    "kitti_classes_reverse = {'car': 1,\n",
    "                         'cyclist': 2,\n",
    "                         'misc': 3,\n",
    "                         'pedestrian': 4,\n",
    "                         'person': 5,\n",
    "                         'tram': 6,\n",
    "                         'truck': 7,\n",
    "                         'van': 8,\n",
    "                         'dontcare': -1}\n"
   ]
  },
  {
   "cell_type": "code",
   "execution_count": 4,
   "metadata": {},
   "outputs": [],
   "source": [
    "import os\n",
    "from re import X\n",
    "import numpy as np\n",
    "for file_name in os.listdir(\"/home/dark/Documents/GitHub/lstm_tracker/data/KITTI/data_tracking_label_2/training/label_02\"):\n",
    "    with open(\"/home/dark/Documents/GitHub/lstm_tracker/data/KITTI/data_tracking_label_2/training/label_02/\"+file_name, \"r\", encoding=\"utf-8\") as f:\n",
    "        kitti_data = np.array([line.rstrip().split() for line in f.readlines()])\n",
    "        # kitti_data = kitti_data[kitti_data[:,1]!=-1]\n",
    "        classes = np.array([str(kitti_classes_reverse[c.lower()]) for c in kitti_data[:,2]])\n",
    "        kitti_data = np.c_[kitti_data[:,0],kitti_data[:,1],kitti_data[:,6:10],classes]\n",
    "        kitti_data = kitti_data[kitti_data[:,1]!='-1']\n",
    "        x = (kitti_data[:,2].astype('float')/1242 + kitti_data[:,4].astype('float')/1242)/2\n",
    "        y = (kitti_data[:,3].astype('float')/375 + kitti_data[:,5].astype('float')/375)/2\n",
    "        w = kitti_data[:,4].astype('float')/1242 - kitti_data[:,2].astype('float')/1242\n",
    "        h = kitti_data[:,5].astype('float')/375 - kitti_data[:,3].astype('float')/375\n",
    "        kitti_data_normalized = np.c_[kitti_data[:,:2].astype(str), x.astype(str), y.astype(str), w.astype(str), h.astype(str),kitti_data[:,-1].astype(str)]\n",
    "        kitti_text = [\" \".join(list(line.astype(str)))+\"\\n\" for line in kitti_data_normalized]\n",
    "    with open(\"/home/dark/Documents/GitHub/lstm_tracker/data/MOTA/\"+file_name, \"a\", encoding=\"utf-8\") as o:\n",
    "        o.writelines(kitti_text)\n"
   ]
  },
  {
   "cell_type": "code",
   "execution_count": null,
   "metadata": {},
   "outputs": [],
   "source": []
  }
 ],
 "metadata": {
  "kernelspec": {
   "display_name": "Python 3.9.12 ('bosch')",
   "language": "python",
   "name": "python3"
  },
  "language_info": {
   "codemirror_mode": {
    "name": "ipython",
    "version": 3
   },
   "file_extension": ".py",
   "mimetype": "text/x-python",
   "name": "python",
   "nbconvert_exporter": "python",
   "pygments_lexer": "ipython3",
   "version": "3.9.12"
  },
  "orig_nbformat": 4,
  "vscode": {
   "interpreter": {
    "hash": "be1718d095719bbd75e9ed23cfa7b998b9af024f916fb3f5191841a1f45d5a97"
   }
  }
 },
 "nbformat": 4,
 "nbformat_minor": 2
}
